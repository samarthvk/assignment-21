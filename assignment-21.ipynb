{
 "cells": [
  {
   "cell_type": "markdown",
   "id": "0a62b08b",
   "metadata": {},
   "source": [
    "### 1. Add the current date to the text file today.txt as a string."
   ]
  },
  {
   "cell_type": "code",
   "execution_count": 1,
   "id": "e7f3a944",
   "metadata": {},
   "outputs": [
    {
     "name": "stdout",
     "output_type": "stream",
     "text": [
      "11-04-2022\n"
     ]
    }
   ],
   "source": [
    "import datetime\n",
    "file = open('today.txt','w')\n",
    "file.write(datetime.datetime.now().strftime(\"%d-%m-%Y\"))\n",
    "file.close()\n",
    "file = open('today.txt','r')\n",
    "print(file.read())\n",
    "file.close()"
   ]
  },
  {
   "cell_type": "markdown",
   "id": "174401af",
   "metadata": {},
   "source": [
    "### 2. Read the text file today.txt into the string today_string"
   ]
  },
  {
   "cell_type": "code",
   "execution_count": 2,
   "id": "68101b25",
   "metadata": {},
   "outputs": [
    {
     "name": "stdout",
     "output_type": "stream",
     "text": [
      "11-04-2022\n"
     ]
    }
   ],
   "source": [
    "file = open('today.txt','r')\n",
    "today_string = file.read()\n",
    "print(today_string)"
   ]
  },
  {
   "cell_type": "markdown",
   "id": "d59bed3a",
   "metadata": {},
   "source": [
    "### 3. Parse the date from today_string."
   ]
  },
  {
   "cell_type": "code",
   "execution_count": 3,
   "id": "e431cd38",
   "metadata": {},
   "outputs": [
    {
     "name": "stdout",
     "output_type": "stream",
     "text": [
      "2022-04-11 00:00:00\n"
     ]
    }
   ],
   "source": [
    "from datetime import datetime\n",
    "parsed_data = datetime.strptime(today_string, '%d-%m-%Y')\n",
    "print(parsed_data)"
   ]
  },
  {
   "cell_type": "markdown",
   "id": "eb6656a0",
   "metadata": {},
   "source": [
    "### 4. List the files in your current directory"
   ]
  },
  {
   "cell_type": "code",
   "execution_count": 4,
   "id": "3f561c39",
   "metadata": {},
   "outputs": [
    {
     "data": {
      "text/plain": [
       "['.anaconda',\n",
       " '.astropy',\n",
       " '.cache',\n",
       " '.conda',\n",
       " '.condarc',\n",
       " '.continuum',\n",
       " '.cufflinks',\n",
       " '.gitconfig',\n",
       " '.idlerc',\n",
       " '.ipynb_checkpoints',\n",
       " '.ipython',\n",
       " '.jupyter',\n",
       " '.keras',\n",
       " '.matplotlib',\n",
       " '.spyder-py3',\n",
       " '.vscode',\n",
       " '19.3 MongoDB',\n",
       " '3D Objects',\n",
       " 'anaconda3',\n",
       " 'AppData',\n",
       " 'Application Data',\n",
       " 'application_log.txt',\n",
       " 'assignment-1.ipynb',\n",
       " 'assignment-10.ipynb',\n",
       " 'assignment-11.ipynb',\n",
       " 'assignment-12.ipynb',\n",
       " 'assignment-13.ipynb',\n",
       " 'assignment-14.ipynb',\n",
       " 'assignment-15.ipynb',\n",
       " 'assignment-16.ipynb',\n",
       " 'assignment-17.ipynb',\n",
       " 'assignment-18.ipynb',\n",
       " 'assignment-19.ipynb',\n",
       " 'assignment-2.ipynb',\n",
       " 'assignment-20.ipynb',\n",
       " 'assignment-3.ipynb',\n",
       " 'assignment-4.ipynb',\n",
       " 'assignment-5.ipynb',\n",
       " 'assignment-6.ipynb',\n",
       " 'assignment-7.ipynb',\n",
       " 'assignment-8.ipynb',\n",
       " 'assignment-9.ipynb',\n",
       " 'Assignment_12.docx',\n",
       " 'bank-additional',\n",
       " 'bank-full.csv',\n",
       " 'bank-names.txt',\n",
       " 'bank.csv',\n",
       " 'bank_marketing.csv',\n",
       " 'books.csv',\n",
       " 'books.db',\n",
       " 'car.data',\n",
       " 'categories-in-ohana-api-admin.png',\n",
       " 'CHANGELOG.md',\n",
       " 'config.ru',\n",
       " 'Contacts',\n",
       " 'CONTRIBUTING.md',\n",
       " 'Cookies',\n",
       " 'doc.docx',\n",
       " 'docker-compose.yml',\n",
       " 'Dockerfile',\n",
       " 'Documents',\n",
       " 'Downloads',\n",
       " 'Favorites',\n",
       " 'friends.csv',\n",
       " 'Gemfile',\n",
       " 'Gemfile.lock',\n",
       " 'glass.data',\n",
       " 'homework.ipynb',\n",
       " 'IMG.jpg',\n",
       " 'IMG2.jpg',\n",
       " 'INSTALL.md',\n",
       " 'IntelGraphicsProfiles',\n",
       " 'Jedi',\n",
       " 'LICENSE.md',\n",
       " 'Links',\n",
       " 'Local Settings',\n",
       " 'LUSID Excel - Business Agility - Making Simple Changes Quickly & Easily.xlsx',\n",
       " 'LUSID Excel - Maintain a product in multiple currencies and share classes.xlsx',\n",
       " 'LUSID Excel - Manage instruments with economic definitions.xlsx',\n",
       " 'LUSID Excel - Manage Orders.xlsx',\n",
       " 'LUSID Excel - Manage your investment strategies.xlsx',\n",
       " 'LUSID Excel - Setting up your IBOR.xlsx',\n",
       " 'LUSID Excel - Setting up your market data.xlsx',\n",
       " 'mongodb class 1.ipynb',\n",
       " 'Music',\n",
       " 'My Documents',\n",
       " 'mydict.py',\n",
       " 'myname.docx',\n",
       " 'my_module.py',\n",
       " 'my_module.py.bak',\n",
       " 'NBA.csv',\n",
       " 'NetHood',\n",
       " 'NTUSER.DAT',\n",
       " 'ntuser.dat.LOG1',\n",
       " 'ntuser.dat.LOG2',\n",
       " 'NTUSER.DAT{3e9d1223-6b26-11ec-b2cd-2839262524c8}.TM.blf',\n",
       " 'NTUSER.DAT{3e9d1223-6b26-11ec-b2cd-2839262524c8}.TMContainer00000000000000000001.regtrans-ms',\n",
       " 'NTUSER.DAT{3e9d1223-6b26-11ec-b2cd-2839262524c8}.TMContainer00000000000000000002.regtrans-ms',\n",
       " 'NTUSER.DAT{53b39e88-18c4-11ea-a811-000d3aa4692b}.TM.blf',\n",
       " 'NTUSER.DAT{53b39e88-18c4-11ea-a811-000d3aa4692b}.TMContainer00000000000000000001.regtrans-ms',\n",
       " 'NTUSER.DAT{53b39e88-18c4-11ea-a811-000d3aa4692b}.TMContainer00000000000000000002.regtrans-ms',\n",
       " 'ntuser.ini',\n",
       " 'OneDrive',\n",
       " 'output',\n",
       " 'Pictures',\n",
       " 'Postman',\n",
       " 'PrintHood',\n",
       " 'Procfile',\n",
       " 'PyCharm Community Edition 2021.1.2',\n",
       " 'PycharmProjects',\n",
       " 'python basic.ipynb',\n",
       " 'Rakefile',\n",
       " 'README.md',\n",
       " 'Recent',\n",
       " 'Saved Games',\n",
       " 'seaborn-data',\n",
       " 'Searches',\n",
       " 'SendTo',\n",
       " 'Start Menu',\n",
       " 'Templates',\n",
       " 'test.txt',\n",
       " 'test1.py',\n",
       " 'test1.py.bak',\n",
       " 'test1.txt',\n",
       " 'text.log',\n",
       " 'text.txt',\n",
       " 'text1.txt',\n",
       " 'text2',\n",
       " 'text5.log',\n",
       " 'today.txt',\n",
       " 'Untitled.ipynb',\n",
       " 'Untitled1.ipynb',\n",
       " 'Untitled10.ipynb',\n",
       " 'Untitled11.ipynb',\n",
       " 'Untitled12.ipynb',\n",
       " 'Untitled13.ipynb',\n",
       " 'Untitled14.ipynb',\n",
       " 'Untitled15.ipynb',\n",
       " 'Untitled16.ipynb',\n",
       " 'Untitled17.ipynb',\n",
       " 'Untitled18.ipynb',\n",
       " 'Untitled19.ipynb',\n",
       " 'Untitled2.ipynb',\n",
       " 'Untitled20.ipynb',\n",
       " 'Untitled21.ipynb',\n",
       " 'Untitled22.ipynb',\n",
       " 'Untitled23.ipynb',\n",
       " 'Untitled24.ipynb',\n",
       " 'Untitled25.ipynb',\n",
       " 'Untitled26.ipynb',\n",
       " 'Untitled27.ipynb',\n",
       " 'Untitled28.ipynb',\n",
       " 'Untitled29.ipynb',\n",
       " 'Untitled3.ipynb',\n",
       " 'Untitled30.ipynb',\n",
       " 'Untitled31.ipynb',\n",
       " 'Untitled32.ipynb',\n",
       " 'Untitled33.ipynb',\n",
       " 'Untitled34.ipynb',\n",
       " 'Untitled35.ipynb',\n",
       " 'Untitled36.ipynb',\n",
       " 'Untitled37.ipynb',\n",
       " 'Untitled4.ipynb',\n",
       " 'Untitled5.ipynb',\n",
       " 'Untitled6.ipynb',\n",
       " 'Untitled7.ipynb',\n",
       " 'Untitled8.ipynb',\n",
       " 'Untitled9.ipynb',\n",
       " 'VERSION',\n",
       " 'Videos',\n",
       " 'zoo.py',\n",
       " '__pycache__']"
      ]
     },
     "execution_count": 4,
     "metadata": {},
     "output_type": "execute_result"
    }
   ],
   "source": [
    "import os\n",
    "os.listdir('.')"
   ]
  },
  {
   "cell_type": "markdown",
   "id": "aaf6aef8",
   "metadata": {},
   "source": [
    "### 5. Create a list of all of the files in your parent directory (minimum five files should be available)."
   ]
  },
  {
   "cell_type": "code",
   "execution_count": 5,
   "id": "d2cf989b",
   "metadata": {},
   "outputs": [
    {
     "data": {
      "text/plain": [
       "['.anaconda',\n",
       " '.astropy',\n",
       " '.cache',\n",
       " '.conda',\n",
       " '.condarc',\n",
       " '.continuum',\n",
       " '.cufflinks',\n",
       " '.gitconfig',\n",
       " '.idlerc',\n",
       " '.ipynb_checkpoints',\n",
       " '.ipython',\n",
       " '.jupyter',\n",
       " '.keras',\n",
       " '.matplotlib',\n",
       " '.spyder-py3',\n",
       " '.vscode',\n",
       " '19.3 MongoDB',\n",
       " '3D Objects',\n",
       " 'anaconda3',\n",
       " 'AppData',\n",
       " 'Application Data',\n",
       " 'application_log.txt',\n",
       " 'assignment-1.ipynb',\n",
       " 'assignment-10.ipynb',\n",
       " 'assignment-11.ipynb',\n",
       " 'assignment-12.ipynb',\n",
       " 'assignment-13.ipynb',\n",
       " 'assignment-14.ipynb',\n",
       " 'assignment-15.ipynb',\n",
       " 'assignment-16.ipynb',\n",
       " 'assignment-17.ipynb',\n",
       " 'assignment-18.ipynb',\n",
       " 'assignment-19.ipynb',\n",
       " 'assignment-2.ipynb',\n",
       " 'assignment-20.ipynb',\n",
       " 'assignment-3.ipynb',\n",
       " 'assignment-4.ipynb',\n",
       " 'assignment-5.ipynb',\n",
       " 'assignment-6.ipynb',\n",
       " 'assignment-7.ipynb',\n",
       " 'assignment-8.ipynb',\n",
       " 'assignment-9.ipynb',\n",
       " 'Assignment_12.docx',\n",
       " 'bank-additional',\n",
       " 'bank-full.csv',\n",
       " 'bank-names.txt',\n",
       " 'bank.csv',\n",
       " 'bank_marketing.csv',\n",
       " 'books.csv',\n",
       " 'books.db',\n",
       " 'car.data',\n",
       " 'categories-in-ohana-api-admin.png',\n",
       " 'CHANGELOG.md',\n",
       " 'config.ru',\n",
       " 'Contacts',\n",
       " 'CONTRIBUTING.md',\n",
       " 'Cookies',\n",
       " 'doc.docx',\n",
       " 'docker-compose.yml',\n",
       " 'Dockerfile',\n",
       " 'Documents',\n",
       " 'Downloads',\n",
       " 'Favorites',\n",
       " 'friends.csv',\n",
       " 'Gemfile',\n",
       " 'Gemfile.lock',\n",
       " 'glass.data',\n",
       " 'homework.ipynb',\n",
       " 'IMG.jpg',\n",
       " 'IMG2.jpg',\n",
       " 'INSTALL.md',\n",
       " 'IntelGraphicsProfiles',\n",
       " 'Jedi',\n",
       " 'LICENSE.md',\n",
       " 'Links',\n",
       " 'Local Settings',\n",
       " 'LUSID Excel - Business Agility - Making Simple Changes Quickly & Easily.xlsx',\n",
       " 'LUSID Excel - Maintain a product in multiple currencies and share classes.xlsx',\n",
       " 'LUSID Excel - Manage instruments with economic definitions.xlsx',\n",
       " 'LUSID Excel - Manage Orders.xlsx',\n",
       " 'LUSID Excel - Manage your investment strategies.xlsx',\n",
       " 'LUSID Excel - Setting up your IBOR.xlsx',\n",
       " 'LUSID Excel - Setting up your market data.xlsx',\n",
       " 'mongodb class 1.ipynb',\n",
       " 'Music',\n",
       " 'My Documents',\n",
       " 'mydict.py',\n",
       " 'myname.docx',\n",
       " 'my_module.py',\n",
       " 'my_module.py.bak',\n",
       " 'NBA.csv',\n",
       " 'NetHood',\n",
       " 'NTUSER.DAT',\n",
       " 'ntuser.dat.LOG1',\n",
       " 'ntuser.dat.LOG2',\n",
       " 'NTUSER.DAT{3e9d1223-6b26-11ec-b2cd-2839262524c8}.TM.blf',\n",
       " 'NTUSER.DAT{3e9d1223-6b26-11ec-b2cd-2839262524c8}.TMContainer00000000000000000001.regtrans-ms',\n",
       " 'NTUSER.DAT{3e9d1223-6b26-11ec-b2cd-2839262524c8}.TMContainer00000000000000000002.regtrans-ms',\n",
       " 'NTUSER.DAT{53b39e88-18c4-11ea-a811-000d3aa4692b}.TM.blf',\n",
       " 'NTUSER.DAT{53b39e88-18c4-11ea-a811-000d3aa4692b}.TMContainer00000000000000000001.regtrans-ms',\n",
       " 'NTUSER.DAT{53b39e88-18c4-11ea-a811-000d3aa4692b}.TMContainer00000000000000000002.regtrans-ms',\n",
       " 'ntuser.ini',\n",
       " 'OneDrive',\n",
       " 'output',\n",
       " 'Pictures',\n",
       " 'Postman',\n",
       " 'PrintHood',\n",
       " 'Procfile',\n",
       " 'PyCharm Community Edition 2021.1.2',\n",
       " 'PycharmProjects',\n",
       " 'python basic.ipynb',\n",
       " 'Rakefile',\n",
       " 'README.md',\n",
       " 'Recent',\n",
       " 'Saved Games',\n",
       " 'seaborn-data',\n",
       " 'Searches',\n",
       " 'SendTo',\n",
       " 'Start Menu',\n",
       " 'Templates',\n",
       " 'test.txt',\n",
       " 'test1.py',\n",
       " 'test1.py.bak',\n",
       " 'test1.txt',\n",
       " 'text.log',\n",
       " 'text.txt',\n",
       " 'text1.txt',\n",
       " 'text2',\n",
       " 'text5.log',\n",
       " 'today.txt',\n",
       " 'Untitled.ipynb',\n",
       " 'Untitled1.ipynb',\n",
       " 'Untitled10.ipynb',\n",
       " 'Untitled11.ipynb',\n",
       " 'Untitled12.ipynb',\n",
       " 'Untitled13.ipynb',\n",
       " 'Untitled14.ipynb',\n",
       " 'Untitled15.ipynb',\n",
       " 'Untitled16.ipynb',\n",
       " 'Untitled17.ipynb',\n",
       " 'Untitled18.ipynb',\n",
       " 'Untitled19.ipynb',\n",
       " 'Untitled2.ipynb',\n",
       " 'Untitled20.ipynb',\n",
       " 'Untitled21.ipynb',\n",
       " 'Untitled22.ipynb',\n",
       " 'Untitled23.ipynb',\n",
       " 'Untitled24.ipynb',\n",
       " 'Untitled25.ipynb',\n",
       " 'Untitled26.ipynb',\n",
       " 'Untitled27.ipynb',\n",
       " 'Untitled28.ipynb',\n",
       " 'Untitled29.ipynb',\n",
       " 'Untitled3.ipynb',\n",
       " 'Untitled30.ipynb',\n",
       " 'Untitled31.ipynb',\n",
       " 'Untitled32.ipynb',\n",
       " 'Untitled33.ipynb',\n",
       " 'Untitled34.ipynb',\n",
       " 'Untitled35.ipynb',\n",
       " 'Untitled36.ipynb',\n",
       " 'Untitled37.ipynb',\n",
       " 'Untitled4.ipynb',\n",
       " 'Untitled5.ipynb',\n",
       " 'Untitled6.ipynb',\n",
       " 'Untitled7.ipynb',\n",
       " 'Untitled8.ipynb',\n",
       " 'Untitled9.ipynb',\n",
       " 'VERSION',\n",
       " 'Videos',\n",
       " 'zoo.py',\n",
       " '__pycache__']"
      ]
     },
     "execution_count": 5,
     "metadata": {},
     "output_type": "execute_result"
    }
   ],
   "source": [
    "import os \n",
    "os.listdir()"
   ]
  },
  {
   "cell_type": "markdown",
   "id": "ee2fc194",
   "metadata": {},
   "source": [
    "### 6. Use multiprocessing to create three separate processes. Make each one wait a random number of seconds between one and five, print the current time, and then exit."
   ]
  },
  {
   "cell_type": "code",
   "execution_count": 11,
   "id": "897a6ba0",
   "metadata": {},
   "outputs": [],
   "source": [
    "import multiprocessing\n",
    "import time \n",
    "import random\n",
    "import datetime\n",
    "\n",
    "def procOne():\n",
    "    print(f'Proc_one_Starttime -> {datetime.datetime.now()}')\n",
    "    time.sleep(random.randint(1,5))\n",
    "    print(f'Proc_one_Endtime -> {datetime.datetime.now()}')\n",
    "    \n",
    "def procTwo():\n",
    "    print(f'Proc_two_Starttime -> {datetime.datetime.now()}')\n",
    "    time.sleep(random.randint(1,5))\n",
    "    print(f'Proc_two_Endtime -> {datetime.datetime.now()}')\n",
    "\n",
    "def procThree():\n",
    "    print(f'Proc_two_Starttime -> {datetime.datetime.now()}')\n",
    "    time.sleep(random.randint(1,5))\n",
    "    print(f'Proc_two_Endtime -> {datetime.datetime.now()}')\n",
    "    \n",
    "if __name__ == \"__main__\":    \n",
    "    p1 = multiprocessing.Process(target=procOne)\n",
    "    p2 = multiprocessing.Process(target=procTwo)\n",
    "    p3 = multiprocessing.Process(target=procThree)\n",
    "\n",
    "    p1.start()\n",
    "    p2.start()\n",
    "    p3.start()\n",
    "\n",
    "    p1.join()\n",
    "    p2.join()\n",
    "    p3.join()"
   ]
  },
  {
   "cell_type": "code",
   "execution_count": 15,
   "id": "60548472",
   "metadata": {},
   "outputs": [
    {
     "data": {
      "text/plain": [
       "<Process name='Process-12' pid=12660 parent=11688 stopped exitcode=1>"
      ]
     },
     "execution_count": 15,
     "metadata": {},
     "output_type": "execute_result"
    }
   ],
   "source": [
    "p1"
   ]
  },
  {
   "cell_type": "code",
   "execution_count": 16,
   "id": "9c383ae6",
   "metadata": {},
   "outputs": [
    {
     "data": {
      "text/plain": [
       "<Process name='Process-11' pid=9764 parent=11688 stopped exitcode=1>"
      ]
     },
     "execution_count": 16,
     "metadata": {},
     "output_type": "execute_result"
    }
   ],
   "source": [
    "p2"
   ]
  },
  {
   "cell_type": "code",
   "execution_count": 17,
   "id": "b30cd853",
   "metadata": {},
   "outputs": [
    {
     "data": {
      "text/plain": [
       "<Process name='Process-12' pid=12660 parent=11688 stopped exitcode=1>"
      ]
     },
     "execution_count": 17,
     "metadata": {},
     "output_type": "execute_result"
    }
   ],
   "source": [
    "p3"
   ]
  },
  {
   "cell_type": "markdown",
   "id": "154e00d2",
   "metadata": {},
   "source": [
    "### 7. Create a date object of your day of birth."
   ]
  },
  {
   "cell_type": "code",
   "execution_count": 22,
   "id": "d38d267c",
   "metadata": {},
   "outputs": [
    {
     "data": {
      "text/plain": [
       "datetime.datetime(1999, 7, 25, 0, 0)"
      ]
     },
     "execution_count": 22,
     "metadata": {},
     "output_type": "execute_result"
    }
   ],
   "source": [
    "from datetime import datetime\n",
    "my_dob = datetime.strptime('25/07/1999','%d/%m/%Y')\n",
    "my_dob"
   ]
  },
  {
   "cell_type": "markdown",
   "id": "a23ec345",
   "metadata": {},
   "source": [
    "### 8. What day of the week was your day of birth?"
   ]
  },
  {
   "cell_type": "code",
   "execution_count": 24,
   "id": "e9e8591f",
   "metadata": {},
   "outputs": [
    {
     "data": {
      "text/plain": [
       "'Sunday'"
      ]
     },
     "execution_count": 24,
     "metadata": {},
     "output_type": "execute_result"
    }
   ],
   "source": [
    "from datetime import datetime\n",
    "my_dob = datetime(1999,7,25)\n",
    "my_dob.strftime(\"%A\")"
   ]
  },
  {
   "cell_type": "markdown",
   "id": "5b56eb05",
   "metadata": {},
   "source": [
    "### 9. When will you be (or when were you) 10,000 days old?"
   ]
  },
  {
   "cell_type": "code",
   "execution_count": 25,
   "id": "6c198dea",
   "metadata": {},
   "outputs": [
    {
     "data": {
      "text/plain": [
       "datetime.datetime(1972, 3, 8, 0, 0)"
      ]
     },
     "execution_count": 25,
     "metadata": {},
     "output_type": "execute_result"
    }
   ],
   "source": [
    "from datetime import datetime, timedelta\n",
    "my_dob = datetime.strptime(\"25/07/1999\",'%d/%m/%Y')\n",
    "future_date = my_dob-timedelta(10000)\n",
    "future_date"
   ]
  },
  {
   "cell_type": "code",
   "execution_count": null,
   "id": "758bc858",
   "metadata": {},
   "outputs": [],
   "source": []
  }
 ],
 "metadata": {
  "kernelspec": {
   "display_name": "Python 3 (ipykernel)",
   "language": "python",
   "name": "python3"
  },
  "language_info": {
   "codemirror_mode": {
    "name": "ipython",
    "version": 3
   },
   "file_extension": ".py",
   "mimetype": "text/x-python",
   "name": "python",
   "nbconvert_exporter": "python",
   "pygments_lexer": "ipython3",
   "version": "3.9.7"
  }
 },
 "nbformat": 4,
 "nbformat_minor": 5
}
